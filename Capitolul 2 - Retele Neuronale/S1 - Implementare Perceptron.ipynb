{
 "cells": [
  {
   "cell_type": "code",
   "execution_count": 1,
   "metadata": {},
   "outputs": [],
   "source": [
    "import numpy as np"
   ]
  },
  {
   "cell_type": "markdown",
   "metadata": {},
   "source": [
    "# Implementare perceptron sub forma unei clase"
   ]
  },
  {
   "cell_type": "code",
   "execution_count": 2,
   "metadata": {},
   "outputs": [],
   "source": [
    "class Perceptron():\n",
    "    def __init__(self, weights, bias):\n",
    "        self.weights = weights\n",
    "        self.bias = bias\n",
    "    \n",
    "    def activation(self, x):\n",
    "        return (x >= 0.0).astype(int)\n",
    "    \n",
    "    def predict(self, x):\n",
    "        return self.activation((self.weights.T * x).sum(axis=1) + self.bias)"
   ]
  },
  {
   "cell_type": "markdown",
   "metadata": {},
   "source": [
    "Generam un set sintetic de date de antrenare"
   ]
  },
  {
   "cell_type": "code",
   "execution_count": 3,
   "metadata": {},
   "outputs": [],
   "source": [
    "x = np.random.randn(20, 2)\n",
    "y = np.ones(20)\n",
    "y[:10] = 0\n",
    "np.random.shuffle(y)"
   ]
  },
  {
   "cell_type": "markdown",
   "metadata": {},
   "source": [
    "Definire ponderi aleatoare"
   ]
  },
  {
   "cell_type": "code",
   "execution_count": 4,
   "metadata": {},
   "outputs": [],
   "source": [
    "w = np.zeros((2, 1))\n",
    "b = 0"
   ]
  },
  {
   "cell_type": "markdown",
   "metadata": {},
   "source": [
    "Verificare dimensiuni"
   ]
  },
  {
   "cell_type": "code",
   "execution_count": 5,
   "metadata": {},
   "outputs": [
    {
     "data": {
      "text/plain": [
       "(20, 2)"
      ]
     },
     "execution_count": 5,
     "metadata": {},
     "output_type": "execute_result"
    }
   ],
   "source": [
    "x.shape"
   ]
  },
  {
   "cell_type": "code",
   "execution_count": 6,
   "metadata": {},
   "outputs": [
    {
     "data": {
      "text/plain": [
       "(20,)"
      ]
     },
     "execution_count": 6,
     "metadata": {},
     "output_type": "execute_result"
    }
   ],
   "source": [
    "y.shape"
   ]
  },
  {
   "cell_type": "code",
   "execution_count": 7,
   "metadata": {},
   "outputs": [
    {
     "data": {
      "text/plain": [
       "(2, 1)"
      ]
     },
     "execution_count": 7,
     "metadata": {},
     "output_type": "execute_result"
    }
   ],
   "source": [
    "w.shape"
   ]
  },
  {
   "cell_type": "code",
   "execution_count": 8,
   "metadata": {},
   "outputs": [
    {
     "data": {
      "text/plain": [
       "0"
      ]
     },
     "execution_count": 8,
     "metadata": {},
     "output_type": "execute_result"
    }
   ],
   "source": [
    "b"
   ]
  },
  {
   "cell_type": "markdown",
   "metadata": {},
   "source": [
    "Definire perceptron si generarea predictiilor"
   ]
  },
  {
   "cell_type": "code",
   "execution_count": 9,
   "metadata": {},
   "outputs": [],
   "source": [
    "model = Perceptron(w, b)"
   ]
  },
  {
   "cell_type": "code",
   "execution_count": 10,
   "metadata": {},
   "outputs": [],
   "source": [
    "preds = model.predict(x)"
   ]
  },
  {
   "cell_type": "code",
   "execution_count": 11,
   "metadata": {},
   "outputs": [
    {
     "data": {
      "text/plain": [
       "(20,)"
      ]
     },
     "execution_count": 11,
     "metadata": {},
     "output_type": "execute_result"
    }
   ],
   "source": [
    "preds.shape"
   ]
  },
  {
   "cell_type": "markdown",
   "metadata": {},
   "source": [
    "Verificam predictiile vs valorile reale"
   ]
  },
  {
   "cell_type": "code",
   "execution_count": 12,
   "metadata": {},
   "outputs": [
    {
     "name": "stdout",
     "output_type": "stream",
     "text": [
      "Valoare prezisa: 1  |  Valoare reala: 1.0\n",
      "Valoare prezisa: 1  |  Valoare reala: 1.0\n",
      "Valoare prezisa: 1  |  Valoare reala: 1.0\n",
      "Valoare prezisa: 1  |  Valoare reala: 0.0\n",
      "Valoare prezisa: 1  |  Valoare reala: 1.0\n",
      "Valoare prezisa: 1  |  Valoare reala: 0.0\n",
      "Valoare prezisa: 1  |  Valoare reala: 0.0\n",
      "Valoare prezisa: 1  |  Valoare reala: 0.0\n",
      "Valoare prezisa: 1  |  Valoare reala: 0.0\n",
      "Valoare prezisa: 1  |  Valoare reala: 1.0\n",
      "Valoare prezisa: 1  |  Valoare reala: 1.0\n",
      "Valoare prezisa: 1  |  Valoare reala: 1.0\n",
      "Valoare prezisa: 1  |  Valoare reala: 0.0\n",
      "Valoare prezisa: 1  |  Valoare reala: 1.0\n",
      "Valoare prezisa: 1  |  Valoare reala: 0.0\n",
      "Valoare prezisa: 1  |  Valoare reala: 0.0\n",
      "Valoare prezisa: 1  |  Valoare reala: 0.0\n",
      "Valoare prezisa: 1  |  Valoare reala: 1.0\n",
      "Valoare prezisa: 1  |  Valoare reala: 1.0\n",
      "Valoare prezisa: 1  |  Valoare reala: 0.0\n"
     ]
    }
   ],
   "source": [
    "for i in range(len(preds)):\n",
    "    print(\"Valoare prezisa: {}  |  Valoare reala: {}\".format(preds[i], y[i]))"
   ]
  },
  {
   "cell_type": "markdown",
   "metadata": {},
   "source": [
    "Calculam acuratetea verificand numarul de valori identice raportat la numarul total de valori."
   ]
  },
  {
   "cell_type": "code",
   "execution_count": 13,
   "metadata": {},
   "outputs": [
    {
     "name": "stdout",
     "output_type": "stream",
     "text": [
      "Acuratetea modelului nostru este: 50.0%\n"
     ]
    }
   ],
   "source": [
    "acc = (preds == y).sum() / len(preds)\n",
    "print(\"Acuratetea modelului nostru este: {}%\".format(acc*100))"
   ]
  },
  {
   "cell_type": "markdown",
   "metadata": {},
   "source": [
    "# Implementarea functiei de antrenare"
   ]
  },
  {
   "cell_type": "code",
   "execution_count": 14,
   "metadata": {},
   "outputs": [],
   "source": [
    "class Perceptron():\n",
    "    def __init__(self, weights, bias):\n",
    "        self.weights = weights\n",
    "        self.bias = bias\n",
    "    \n",
    "    def activation(self, x):\n",
    "        return (x >= 0.0).astype(int)\n",
    "    \n",
    "    def predict(self, x):\n",
    "        return self.activation((self.weights.T * x).sum(axis=1) + self.bias)\n",
    "\n",
    "    def train_batch(self, epochs, lr, x, y):\n",
    "        for epoch in range(epochs):\n",
    "            print(\"Fitting model for epoch {}\".format(epoch+1))\n",
    "            pred = self.predict(x)\n",
    "            loss = y - pred\n",
    "            \n",
    "            self.bias = self.bias + lr * loss.mean()\n",
    "            \n",
    "            self.weights = self.weights + lr * np.dot(loss, x).reshape(self.weights.shape) / len(loss)\n",
    "\n",
    "            print(\"Loss for epoch {}: {}\".format(epoch+1, np.abs(loss.mean())))\n",
    "    def train(self, epochs, lr, x, y):\n",
    "        for epoch in range(epochs):\n",
    "            print(\"Fitting model for epoch {}\".format(epoch+1))\n",
    "            total_loss = 0\n",
    "            for i in range(len(y)):\n",
    "                pred = self.predict(x[i])\n",
    "                loss = y[i] - pred\n",
    "                total_loss += np.abs(loss)\n",
    "\n",
    "                self.bias += lr * loss\n",
    "                \n",
    "                self.weights += lr * (loss * x[i]).reshape(self.weights.shape)\n",
    "            print(\"Loss for epoch {}: {}\".format(epoch+1, total_loss))"
   ]
  },
  {
   "cell_type": "code",
   "execution_count": 15,
   "metadata": {},
   "outputs": [],
   "source": [
    "model = Perceptron(w, b)"
   ]
  },
  {
   "cell_type": "code",
   "execution_count": 16,
   "metadata": {},
   "outputs": [
    {
     "name": "stdout",
     "output_type": "stream",
     "text": [
      "Fitting model for epoch 1\n",
      "Loss for epoch 1: 0.5\n",
      "Fitting model for epoch 2\n",
      "Loss for epoch 2: 0.5\n",
      "Fitting model for epoch 3\n",
      "Loss for epoch 3: 0.0\n",
      "Fitting model for epoch 4\n",
      "Loss for epoch 4: 0.05\n",
      "Fitting model for epoch 5\n",
      "Loss for epoch 5: 0.05\n"
     ]
    }
   ],
   "source": [
    "model.train_batch(\n",
    "    epochs=5,\n",
    "    lr=0.1,\n",
    "    x=x,\n",
    "    y=y\n",
    ")"
   ]
  },
  {
   "cell_type": "code",
   "execution_count": 17,
   "metadata": {},
   "outputs": [],
   "source": [
    "preds = model.predict(x)"
   ]
  },
  {
   "cell_type": "code",
   "execution_count": 18,
   "metadata": {},
   "outputs": [
    {
     "name": "stdout",
     "output_type": "stream",
     "text": [
      "Acuratetea modelului nostru este: 55.00000000000001%\n"
     ]
    }
   ],
   "source": [
    "acc = (preds == y).sum() / len(preds)\n",
    "print(\"Acuratetea modelului nostru este: {}%\".format(acc*100))"
   ]
  },
  {
   "cell_type": "markdown",
   "metadata": {},
   "source": [
    "Daca rulati codul de mai sus de mai multe ori veti avea rezultate diferite datorita faptului ca folosim variabile aleatoare. In exemplul de mai jos putem vedea pe un set de date stabil si care nu se modifica faptul ca perceptronul reuseste sa invete sa estimeze perfect setul de date. "
   ]
  },
  {
   "cell_type": "code",
   "execution_count": 19,
   "metadata": {},
   "outputs": [],
   "source": [
    "dataset = np.array([\n",
    "    [2.7810836,2.550537003,0],\n",
    "    [1.465489372,2.362125076,0],\n",
    "    [3.396561688,4.400293529,0],\n",
    "    [1.38807019,1.850220317,0],\n",
    "    [3.06407232,3.005305973,0],\n",
    "    [7.627531214,2.759262235,1],\n",
    "    [5.332441248,2.088626775,1],\n",
    "    [6.922596716,1.77106367,1],\n",
    "    [8.675418651,-0.242068655,1],\n",
    "    [7.673756466,3.508563011,1]\n",
    "])\n",
    "x = dataset[:, :-1]\n",
    "y = dataset[:, -1]\n",
    "w = np.zeros((2, 1))\n",
    "b = 0"
   ]
  },
  {
   "cell_type": "code",
   "execution_count": 20,
   "metadata": {},
   "outputs": [],
   "source": [
    "model = Perceptron(w, b)"
   ]
  },
  {
   "cell_type": "code",
   "execution_count": 21,
   "metadata": {},
   "outputs": [],
   "source": [
    "preds = model.predict(x)"
   ]
  },
  {
   "cell_type": "code",
   "execution_count": 22,
   "metadata": {},
   "outputs": [
    {
     "name": "stdout",
     "output_type": "stream",
     "text": [
      "Acuratetea modelului nostru este: 50.0%\n"
     ]
    }
   ],
   "source": [
    "acc = (preds == y).sum() / len(preds)\n",
    "print(\"Acuratetea modelului nostru este: {}%\".format(acc*100))"
   ]
  },
  {
   "cell_type": "markdown",
   "metadata": {},
   "source": [
    "Desi initial acuratetea este 50%, prin invatare o putem duce la 100%. "
   ]
  },
  {
   "cell_type": "code",
   "execution_count": 23,
   "metadata": {},
   "outputs": [
    {
     "name": "stdout",
     "output_type": "stream",
     "text": [
      "Fitting model for epoch 1\n",
      "Loss for epoch 1: [2.]\n",
      "Fitting model for epoch 2\n",
      "Loss for epoch 2: [1.]\n",
      "Fitting model for epoch 3\n",
      "Loss for epoch 3: [0.]\n",
      "Fitting model for epoch 4\n",
      "Loss for epoch 4: [0.]\n",
      "Fitting model for epoch 5\n",
      "Loss for epoch 5: [0.]\n"
     ]
    }
   ],
   "source": [
    "model.train(\n",
    "    epochs=5,\n",
    "    lr=0.1,\n",
    "    x=x,\n",
    "    y=y\n",
    ")"
   ]
  },
  {
   "cell_type": "code",
   "execution_count": 24,
   "metadata": {},
   "outputs": [],
   "source": [
    "preds = model.predict(x)"
   ]
  },
  {
   "cell_type": "code",
   "execution_count": 25,
   "metadata": {},
   "outputs": [
    {
     "name": "stdout",
     "output_type": "stream",
     "text": [
      "Acuratetea modelului nostru este: 100.0%\n"
     ]
    }
   ],
   "source": [
    "acc = (preds == y).sum() / len(preds)\n",
    "print(\"Acuratetea modelului nostru este: {}%\".format(acc*100))"
   ]
  }
 ],
 "metadata": {
  "kernelspec": {
   "display_name": "Python 3",
   "language": "python",
   "name": "python3"
  },
  "language_info": {
   "codemirror_mode": {
    "name": "ipython",
    "version": 3
   },
   "file_extension": ".py",
   "mimetype": "text/x-python",
   "name": "python",
   "nbconvert_exporter": "python",
   "pygments_lexer": "ipython3",
   "version": "3.7.4"
  }
 },
 "nbformat": 4,
 "nbformat_minor": 2
}
